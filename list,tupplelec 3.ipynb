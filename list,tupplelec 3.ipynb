{
 "cells": [
  {
   "cell_type": "code",
   "execution_count": 12,
   "id": "f405e848-338f-4c13-8bac-d79f36fe2423",
   "metadata": {},
   "outputs": [],
   "source": [
    "#Today we will learn List in this lecture 3 \n",
    "\n",
    "\n",
    "\n",
    "''' what is list in python ?\n",
    "ans:- list is one of the  data type in pyton where we can store any thing wheater it is boolean data types, string\n",
    " , complex ,tupple , sets, float , intiger everything we can store here in list '''"
   ]
  },
  {
   "cell_type": "code",
   "execution_count": 2,
   "id": "00284623-c262-4f65-93ea-9951f3b80360",
   "metadata": {},
   "outputs": [],
   "source": [
    "L=[34.3,45, True , False, 4+ 23j , \"suraj kumar\" , ' Niraj kumar ' , ' Nisha kumari']"
   ]
  },
  {
   "cell_type": "code",
   "execution_count": 1,
   "id": "e7155db2-6464-4f77-b043-72d2a8348ee1",
   "metadata": {},
   "outputs": [],
   "source": [
    "c=[34.3,45, True , False, 4+ 23j , \"suraj kumar\" , ' Niraj kumar ' , ' Nisha kumari']"
   ]
  },
  {
   "cell_type": "code",
   "execution_count": 2,
   "id": "b04eeb9b-2dc1-48b6-86da-a394e1ff2d39",
   "metadata": {},
   "outputs": [
    {
     "data": {
      "text/plain": [
       "list"
      ]
     },
     "execution_count": 2,
     "metadata": {},
     "output_type": "execute_result"
    }
   ],
   "source": [
    "type(c)"
   ]
  },
  {
   "cell_type": "code",
   "execution_count": 3,
   "id": "c1935062-9db0-484f-abdb-1a0354245609",
   "metadata": {},
   "outputs": [
    {
     "data": {
      "text/plain": [
       "8"
      ]
     },
     "execution_count": 3,
     "metadata": {},
     "output_type": "execute_result"
    }
   ],
   "source": [
    "len(c)"
   ]
  },
  {
   "cell_type": "code",
   "execution_count": null,
   "id": "273669c0-4ee5-4b86-b412-e7127523d4e1",
   "metadata": {},
   "outputs": [],
   "source": []
  },
  {
   "cell_type": "code",
   "execution_count": 3,
   "id": "97b66db3-46f2-4b3a-ab79-9488a67c46fa",
   "metadata": {},
   "outputs": [
    {
     "data": {
      "text/plain": [
       "list"
      ]
     },
     "execution_count": 3,
     "metadata": {},
     "output_type": "execute_result"
    }
   ],
   "source": [
    "type(L)"
   ]
  },
  {
   "cell_type": "code",
   "execution_count": 4,
   "id": "777b1ebe-cdfc-44cf-937d-7fad06026822",
   "metadata": {},
   "outputs": [],
   "source": [
    "# Q) extract the 4+23j from list ?\n",
    "# ans:- same as we done in previous lec for string (indexing and sclising concept) "
   ]
  },
  {
   "cell_type": "code",
   "execution_count": 9,
   "id": "53b9f83c-5007-4a04-a8e7-0a4d706b7ad3",
   "metadata": {},
   "outputs": [
    {
     "data": {
      "text/plain": [
       "(4+23j)"
      ]
     },
     "execution_count": 9,
     "metadata": {},
     "output_type": "execute_result"
    }
   ],
   "source": [
    "L[4]"
   ]
  },
  {
   "cell_type": "code",
   "execution_count": 10,
   "id": "25e88a6d-45c5-4f7a-b47d-491180d18ab6",
   "metadata": {},
   "outputs": [
    {
     "ename": "IndexError",
     "evalue": "list index out of range",
     "output_type": "error",
     "traceback": [
      "\u001b[0;31m---------------------------------------------------------------------------\u001b[0m",
      "\u001b[0;31mIndexError\u001b[0m                                Traceback (most recent call last)",
      "Cell \u001b[0;32mIn[10], line 1\u001b[0m\n\u001b[0;32m----> 1\u001b[0m \u001b[43mL\u001b[49m\u001b[43m[\u001b[49m\u001b[38;5;241;43m89\u001b[39;49m\u001b[43m]\u001b[49m\n",
      "\u001b[0;31mIndexError\u001b[0m: list index out of range"
     ]
    }
   ],
   "source": [
    "L[89]             #list index out of range hai to error aa jayga dhyan me rakho ye sab batten !!"
   ]
  },
  {
   "cell_type": "code",
   "execution_count": 13,
   "id": "410f5ad4-ae7b-4328-a69b-e3e8b12c5b3c",
   "metadata": {},
   "outputs": [],
   "source": [
    "# Q) Extract the first 3 data from list ?\n"
   ]
  },
  {
   "cell_type": "code",
   "execution_count": 8,
   "id": "f714eb17-9c8f-4d69-8de8-c2186db14b31",
   "metadata": {},
   "outputs": [
    {
     "data": {
      "text/plain": [
       "[' Nisha kumari',\n",
       " ' Niraj kumar ',\n",
       " 'suraj kumar',\n",
       " (4+23j),\n",
       " False,\n",
       " True,\n",
       " 45,\n",
       " 34.3]"
      ]
     },
     "execution_count": 8,
     "metadata": {},
     "output_type": "execute_result"
    }
   ],
   "source": []
  },
  {
   "cell_type": "code",
   "execution_count": 16,
   "id": "6ad6869c-6cac-43b2-8fd1-cf76b6e16a06",
   "metadata": {},
   "outputs": [
    {
     "data": {
      "text/plain": [
       "[34.3, 45, True]"
      ]
     },
     "execution_count": 16,
     "metadata": {},
     "output_type": "execute_result"
    }
   ],
   "source": [
    "L[0:3:1]"
   ]
  },
  {
   "cell_type": "code",
   "execution_count": 17,
   "id": "65378bd0-b5a3-4e10-b4e2-20ffe85b703f",
   "metadata": {},
   "outputs": [],
   "source": [
    "# Q) Extract the first 2 data from list by using reverse indexing ? "
   ]
  },
  {
   "cell_type": "code",
   "execution_count": 21,
   "id": "d84461d6-53f6-435d-a967-b1261eb4ca86",
   "metadata": {},
   "outputs": [
    {
     "data": {
      "text/plain": [
       "[True, 45]"
      ]
     },
     "execution_count": 21,
     "metadata": {},
     "output_type": "execute_result"
    }
   ],
   "source": [
    "L[2:0:-1]"
   ]
  },
  {
   "cell_type": "code",
   "execution_count": 22,
   "id": "760c077c-48a8-4622-ae24-f0760af16c85",
   "metadata": {},
   "outputs": [],
   "source": [
    "#Q) do reversing of list \n"
   ]
  },
  {
   "cell_type": "code",
   "execution_count": null,
   "id": "6c455d4b-864a-4de2-b958-6e9046344574",
   "metadata": {},
   "outputs": [],
   "source": [
    "o=[34.3,45, True , False, 4+ 23j , \"suraj kumar\" , ' Niraj kumar ' , ' Nisha kumari']"
   ]
  },
  {
   "cell_type": "code",
   "execution_count": null,
   "id": "b3fe44b0-e9c3-4561-8052-8eef79436026",
   "metadata": {},
   "outputs": [],
   "source": [
    "o                  # this is permanant reverse of the list and by using -ve indexing we can do only temporary indexing"
   ]
  },
  {
   "cell_type": "code",
   "execution_count": 11,
   "id": "2d3f1e00-249c-4708-ac6c-3f4911f609fd",
   "metadata": {},
   "outputs": [],
   "source": [
    "o.reverse()"
   ]
  },
  {
   "cell_type": "code",
   "execution_count": 12,
   "id": "3a544b1c-a517-4122-8521-94f8593cb275",
   "metadata": {},
   "outputs": [
    {
     "data": {
      "text/plain": [
       "[' Nisha kumari',\n",
       " ' Niraj kumar ',\n",
       " 'suraj kumar',\n",
       " (4+23j),\n",
       " False,\n",
       " True,\n",
       " 45,\n",
       " 34.3]"
      ]
     },
     "execution_count": 12,
     "metadata": {},
     "output_type": "execute_result"
    }
   ],
   "source": [
    "o"
   ]
  },
  {
   "cell_type": "code",
   "execution_count": 23,
   "id": "4934d4a8-6d55-4deb-9bb7-516d1d3fd22e",
   "metadata": {},
   "outputs": [
    {
     "data": {
      "text/plain": [
       "[' Nisha kumari',\n",
       " ' Niraj kumar ',\n",
       " 'suraj kumar',\n",
       " (4+23j),\n",
       " False,\n",
       " True,\n",
       " 45,\n",
       " 34.3]"
      ]
     },
     "execution_count": 23,
     "metadata": {},
     "output_type": "execute_result"
    }
   ],
   "source": [
    "L[::-1]"
   ]
  },
  {
   "cell_type": "code",
   "execution_count": 24,
   "id": "d7f3ff97-e1dd-4e0f-bcaf-b2c42d6375af",
   "metadata": {},
   "outputs": [],
   "source": [
    "#Q) extract the data from list standing on even number ?"
   ]
  },
  {
   "cell_type": "code",
   "execution_count": 25,
   "id": "244be9ab-4852-43ce-b16a-e5c5bb6fa050",
   "metadata": {},
   "outputs": [
    {
     "data": {
      "text/plain": [
       "[34.3, True, (4+23j), ' Niraj kumar ']"
      ]
     },
     "execution_count": 25,
     "metadata": {},
     "output_type": "execute_result"
    }
   ],
   "source": [
    "L[::2]"
   ]
  },
  {
   "cell_type": "code",
   "execution_count": 26,
   "id": "5dfa0d51-ea82-41ed-9629-60bd55ba0a62",
   "metadata": {},
   "outputs": [],
   "source": [
    "# we cannot add list and string \n"
   ]
  },
  {
   "cell_type": "code",
   "execution_count": 27,
   "id": "29c2212c-57d9-4a41-ba94-296e5d9e6caa",
   "metadata": {},
   "outputs": [],
   "source": [
    "r= 'suraj'"
   ]
  },
  {
   "cell_type": "code",
   "execution_count": 28,
   "id": "914968ec-ae57-40db-95c1-f8cea4bbcb9d",
   "metadata": {},
   "outputs": [
    {
     "ename": "TypeError",
     "evalue": "can only concatenate str (not \"list\") to str",
     "output_type": "error",
     "traceback": [
      "\u001b[0;31m---------------------------------------------------------------------------\u001b[0m",
      "\u001b[0;31mTypeError\u001b[0m                                 Traceback (most recent call last)",
      "Cell \u001b[0;32mIn[28], line 1\u001b[0m\n\u001b[0;32m----> 1\u001b[0m \u001b[43mr\u001b[49m\u001b[43m \u001b[49m\u001b[38;5;241;43m+\u001b[39;49m\u001b[43mL\u001b[49m \n",
      "\u001b[0;31mTypeError\u001b[0m: can only concatenate str (not \"list\") to str"
     ]
    }
   ],
   "source": [
    "r +L "
   ]
  },
  {
   "cell_type": "code",
   "execution_count": 29,
   "id": "77973707-469b-4f3a-bb01-389b2a1b6307",
   "metadata": {},
   "outputs": [],
   "source": [
    "# bohot se log soch rahe honge ki string ko list function ki madad se list me convert kar ke add kar denge \n",
    "# dekho ho to jayega lekin list function kya karega n ki string ko alag alag character me tod dega jaisa ki aap dekh sakte ho "
   ]
  },
  {
   "cell_type": "code",
   "execution_count": 30,
   "id": "3f944483-4f08-423d-b80b-88dd64edccdb",
   "metadata": {},
   "outputs": [
    {
     "data": {
      "text/plain": [
       "['s', 'u', 'r', 'a', 'j']"
      ]
     },
     "execution_count": 30,
     "metadata": {},
     "output_type": "execute_result"
    }
   ],
   "source": [
    "list(r)"
   ]
  },
  {
   "cell_type": "code",
   "execution_count": 31,
   "id": "851be524-2ce1-4d06-bf74-6a4044ecee14",
   "metadata": {},
   "outputs": [],
   "source": [
    "# now add "
   ]
  },
  {
   "cell_type": "code",
   "execution_count": 32,
   "id": "df432886-a495-488a-8898-945cb2b2e223",
   "metadata": {},
   "outputs": [
    {
     "data": {
      "text/plain": [
       "[34.3,\n",
       " 45,\n",
       " True,\n",
       " False,\n",
       " (4+23j),\n",
       " 'suraj kumar',\n",
       " ' Niraj kumar ',\n",
       " ' Nisha kumari',\n",
       " 's',\n",
       " 'u',\n",
       " 'r',\n",
       " 'a',\n",
       " 'j']"
      ]
     },
     "execution_count": 32,
     "metadata": {},
     "output_type": "execute_result"
    }
   ],
   "source": [
    "L+ list(r)"
   ]
  },
  {
   "cell_type": "code",
   "execution_count": 33,
   "id": "4276fcd0-4c40-4d5a-ad7f-341e78ce2db1",
   "metadata": {},
   "outputs": [],
   "source": [
    "# or add in reverse direction  "
   ]
  },
  {
   "cell_type": "code",
   "execution_count": 34,
   "id": "d7256c9e-45cc-44d8-ad1e-6d6a65ef54ab",
   "metadata": {},
   "outputs": [
    {
     "data": {
      "text/plain": [
       "['s',\n",
       " 'u',\n",
       " 'r',\n",
       " 'a',\n",
       " 'j',\n",
       " 34.3,\n",
       " 45,\n",
       " True,\n",
       " False,\n",
       " (4+23j),\n",
       " 'suraj kumar',\n",
       " ' Niraj kumar ',\n",
       " ' Nisha kumari']"
      ]
     },
     "execution_count": 34,
     "metadata": {},
     "output_type": "execute_result"
    }
   ],
   "source": [
    "list(r) + L"
   ]
  },
  {
   "cell_type": "code",
   "execution_count": 1,
   "id": "a71aeb9b-f049-4042-a89e-4556c91cb6d9",
   "metadata": {},
   "outputs": [],
   "source": [
    "l=[34.3,45, True , False, 4+ 23j , \"suraj kumar\" , ' Niraj kumar ' , ' Nisha kumari', 'shubham kumar']"
   ]
  },
  {
   "cell_type": "code",
   "execution_count": 2,
   "id": "d85211e2-ca89-4700-926b-cd95583b2049",
   "metadata": {},
   "outputs": [
    {
     "data": {
      "text/plain": [
       "[34.3,\n",
       " 45,\n",
       " True,\n",
       " False,\n",
       " (4+23j),\n",
       " 'suraj kumar',\n",
       " ' Niraj kumar ',\n",
       " ' Nisha kumari',\n",
       " 'shubham kumar']"
      ]
     },
     "execution_count": 2,
     "metadata": {},
     "output_type": "execute_result"
    }
   ],
   "source": [
    "l"
   ]
  },
  {
   "cell_type": "code",
   "execution_count": 5,
   "id": "81c3847b-f43a-4926-ba49-7757dc37dd11",
   "metadata": {},
   "outputs": [
    {
     "data": {
      "text/plain": [
       "'suraj kumar'"
      ]
     },
     "execution_count": 5,
     "metadata": {},
     "output_type": "execute_result"
    }
   ],
   "source": [
    "l[5]"
   ]
  },
  {
   "cell_type": "code",
   "execution_count": 10,
   "id": "c4f6aacc-e9ee-4b11-9bd9-f70acbb07656",
   "metadata": {},
   "outputs": [
    {
     "data": {
      "text/plain": [
       "'s r'"
      ]
     },
     "execution_count": 10,
     "metadata": {},
     "output_type": "execute_result"
    }
   ],
   "source": [
    "l[5][::5]"
   ]
  },
  {
   "cell_type": "code",
   "execution_count": 12,
   "id": "60ea4162-6577-46f4-b845-cf29e699f483",
   "metadata": {},
   "outputs": [
    {
     "data": {
      "text/plain": [
       "'True'"
      ]
     },
     "execution_count": 12,
     "metadata": {},
     "output_type": "execute_result"
    }
   ],
   "source": [
    "str(l[2])           # here boolean data tupe is converted into string data type "
   ]
  },
  {
   "cell_type": "code",
   "execution_count": 13,
   "id": "1e0951d0-4898-41f2-8cdd-a6ceb5941cdf",
   "metadata": {},
   "outputs": [
    {
     "data": {
      "text/plain": [
       "'eurT'"
      ]
     },
     "execution_count": 13,
     "metadata": {},
     "output_type": "execute_result"
    }
   ],
   "source": [
    "str(l[2])[::-1]"
   ]
  },
  {
   "cell_type": "code",
   "execution_count": 14,
   "id": "d15dd1a0-a36e-4543-8a12-2796c68ef318",
   "metadata": {},
   "outputs": [
    {
     "data": {
      "text/plain": [
       "[34.3,\n",
       " 45,\n",
       " True,\n",
       " False,\n",
       " (4+23j),\n",
       " 'suraj kumar',\n",
       " ' Niraj kumar ',\n",
       " ' Nisha kumari',\n",
       " 'shubham kumar',\n",
       " 34.3,\n",
       " 45,\n",
       " True,\n",
       " False,\n",
       " (4+23j),\n",
       " 'suraj kumar',\n",
       " ' Niraj kumar ',\n",
       " ' Nisha kumari',\n",
       " 'shubham kumar']"
      ]
     },
     "execution_count": 14,
     "metadata": {},
     "output_type": "execute_result"
    }
   ],
   "source": [
    "l+l            # so here we have done a mathematical operation list to list but we cannot do list to string mathematical operation or list to intiger "
   ]
  },
  {
   "cell_type": "code",
   "execution_count": 15,
   "id": "f15dccae-1180-4640-a541-08cabef967f5",
   "metadata": {},
   "outputs": [
    {
     "ename": "TypeError",
     "evalue": "unsupported operand type(s) for +: 'type' and 'int'",
     "output_type": "error",
     "traceback": [
      "\u001b[0;31m---------------------------------------------------------------------------\u001b[0m",
      "\u001b[0;31mTypeError\u001b[0m                                 Traceback (most recent call last)",
      "Cell \u001b[0;32mIn[15], line 1\u001b[0m\n\u001b[0;32m----> 1\u001b[0m \u001b[38;5;28;43mlist\u001b[39;49m\u001b[43m \u001b[49m\u001b[38;5;241;43m+\u001b[39;49m\u001b[43m \u001b[49m\u001b[38;5;241;43m5\u001b[39;49m \n",
      "\u001b[0;31mTypeError\u001b[0m: unsupported operand type(s) for +: 'type' and 'int'"
     ]
    }
   ],
   "source": [
    "list + 5       # jaise ki maine apko pahle hi bola tha aur aap dekh sakto ho error aa gaya"
   ]
  },
  {
   "cell_type": "code",
   "execution_count": 18,
   "id": "efd5d3cf-8e62-4c6d-bab4-064f06ee537b",
   "metadata": {},
   "outputs": [],
   "source": [
    "l1=[1,2,3,4,5]"
   ]
  },
  {
   "cell_type": "code",
   "execution_count": 22,
   "id": "71041925-bfe4-47fb-98b2-8d8e0efb4455",
   "metadata": {},
   "outputs": [],
   "source": [
    "l2=[1,2,3,4,5]"
   ]
  },
  {
   "cell_type": "code",
   "execution_count": 23,
   "id": "6db05f38-3ef4-4b36-85ae-c70f154a3d17",
   "metadata": {},
   "outputs": [
    {
     "data": {
      "text/plain": [
       "[1, 2, 3, 4, 5]"
      ]
     },
     "execution_count": 23,
     "metadata": {},
     "output_type": "execute_result"
    }
   ],
   "source": [
    "l2"
   ]
  },
  {
   "cell_type": "code",
   "execution_count": null,
   "id": "b9fd0b50-e711-4bb3-ba6e-fcbaae3bcd7a",
   "metadata": {},
   "outputs": [],
   "source": []
  },
  {
   "cell_type": "code",
   "execution_count": 19,
   "id": "5507756d-02a3-4480-bbf4-296dea56c7cd",
   "metadata": {},
   "outputs": [
    {
     "data": {
      "text/plain": [
       "[1, 2, 3, 4, 5]"
      ]
     },
     "execution_count": 19,
     "metadata": {},
     "output_type": "execute_result"
    }
   ],
   "source": [
    "l1"
   ]
  },
  {
   "cell_type": "code",
   "execution_count": 20,
   "id": "c7590224-3bac-4441-aa08-5e680ded7d6e",
   "metadata": {},
   "outputs": [
    {
     "data": {
      "text/plain": [
       "[1,\n",
       " 2,\n",
       " 3,\n",
       " 4,\n",
       " 5,\n",
       " 34.3,\n",
       " 45,\n",
       " True,\n",
       " False,\n",
       " (4+23j),\n",
       " 'suraj kumar',\n",
       " ' Niraj kumar ',\n",
       " ' Nisha kumari',\n",
       " 'shubham kumar']"
      ]
     },
     "execution_count": 20,
     "metadata": {},
     "output_type": "execute_result"
    }
   ],
   "source": [
    "l1+l"
   ]
  },
  {
   "cell_type": "code",
   "execution_count": 21,
   "id": "dc37b7b0-21fc-4c14-a5b0-ba11cb1e9854",
   "metadata": {},
   "outputs": [],
   "source": [
    "# find the no. of element in (l1+ l)?"
   ]
  },
  {
   "cell_type": "code",
   "execution_count": 23,
   "id": "f322e15b-c7fd-4073-abb9-0e966c16a9f6",
   "metadata": {},
   "outputs": [
    {
     "data": {
      "text/plain": [
       "14"
      ]
     },
     "execution_count": 23,
     "metadata": {},
     "output_type": "execute_result"
    }
   ],
   "source": [
    "len(l1+l)"
   ]
  },
  {
   "cell_type": "code",
   "execution_count": 25,
   "id": "c523f539-e9b5-4922-8533-fdb42a389cef",
   "metadata": {},
   "outputs": [
    {
     "data": {
      "text/plain": [
       "[34.3,\n",
       " 45,\n",
       " True,\n",
       " False,\n",
       " (4+23j),\n",
       " 'suraj kumar',\n",
       " ' Niraj kumar ',\n",
       " ' Nisha kumari',\n",
       " 'shubham kumar']"
      ]
     },
     "execution_count": 25,
     "metadata": {},
     "output_type": "execute_result"
    }
   ],
   "source": [
    "l"
   ]
  },
  {
   "cell_type": "code",
   "execution_count": 5,
   "id": "2de1142e-41b7-43e5-8cd1-cbeb64f884f5",
   "metadata": {},
   "outputs": [
    {
     "data": {
      "text/plain": [
       "[34.3,\n",
       " 45,\n",
       " True,\n",
       " False,\n",
       " (4+23j),\n",
       " 'suraj kumar',\n",
       " ' Niraj kumar ',\n",
       " ' Nisha kumari']"
      ]
     },
     "execution_count": 5,
     "metadata": {},
     "output_type": "execute_result"
    }
   ],
   "source": [
    "c"
   ]
  },
  {
   "cell_type": "code",
   "execution_count": 6,
   "id": "b8b7eab9-4cdc-4ce8-9f35-1af2729ab018",
   "metadata": {},
   "outputs": [],
   "source": [
    "# as we have seen that we cannot do mathmatical operation between list and intiger function ( but we can do addition in  it by using \"append function\" ) "
   ]
  },
  {
   "cell_type": "code",
   "execution_count": 7,
   "id": "59d11bca-cd8b-49c3-8e62-711c240a9c7e",
   "metadata": {},
   "outputs": [],
   "source": [
    "# see you can see the example here below this "
   ]
  },
  {
   "cell_type": "code",
   "execution_count": 14,
   "id": "80246437-512f-4195-a493-2782b69f0d59",
   "metadata": {},
   "outputs": [],
   "source": [
    "c.append(23)                  #  here i am adding 23 to list c \n",
    "                              \n",
    "                                # but note this point that append add at last and not in starting or in middle "
   ]
  },
  {
   "cell_type": "code",
   "execution_count": 15,
   "id": "1a6fcaf3-fdc3-4f24-90ac-ee595873c4bf",
   "metadata": {},
   "outputs": [
    {
     "data": {
      "text/plain": [
       "[34.3,\n",
       " 45,\n",
       " True,\n",
       " False,\n",
       " (4+23j),\n",
       " 'suraj kumar',\n",
       " ' Niraj kumar ',\n",
       " ' Nisha kumari',\n",
       " 23,\n",
       " 23,\n",
       " 23,\n",
       " 2,\n",
       " 2,\n",
       " 23]"
      ]
     },
     "execution_count": 15,
     "metadata": {},
     "output_type": "execute_result"
    }
   ],
   "source": [
    "c"
   ]
  },
  {
   "cell_type": "code",
   "execution_count": 16,
   "id": "8b768da8-f189-4541-9808-edd0324cdc11",
   "metadata": {},
   "outputs": [],
   "source": [
    " # so here i got 23 thrice time added and 2 twice time added and then one more 2 added in the last of the list this happen because i hv appended so many times but here not shown "
   ]
  },
  {
   "cell_type": "code",
   "execution_count": 18,
   "id": "cb49c5c1-c2c5-4d23-bbd3-d64ab286cea2",
   "metadata": {},
   "outputs": [],
   "source": [
    "b=\"suraj kumar Binod Prasad\""
   ]
  },
  {
   "cell_type": "code",
   "execution_count": 19,
   "id": "27dd2885-8eca-41a1-954e-ca15fb662fc8",
   "metadata": {},
   "outputs": [],
   "source": [
    "c.append(b)            # here i have added string to list c lets see what is the result"
   ]
  },
  {
   "cell_type": "code",
   "execution_count": 20,
   "id": "68ba065f-40ff-44b4-af13-e5598aaf1a6b",
   "metadata": {},
   "outputs": [
    {
     "data": {
      "text/plain": [
       "[34.3,\n",
       " 45,\n",
       " True,\n",
       " False,\n",
       " (4+23j),\n",
       " 'suraj kumar',\n",
       " ' Niraj kumar ',\n",
       " ' Nisha kumari',\n",
       " 23,\n",
       " 23,\n",
       " 23,\n",
       " 2,\n",
       " 2,\n",
       " 23,\n",
       " 'suraj kumar Binod Prasad']"
      ]
     },
     "execution_count": 20,
     "metadata": {},
     "output_type": "execute_result"
    }
   ],
   "source": [
    "c                  # see you can see in output of the list the last word is suraj kumar binod prasad i.e 'b' is printed at the end of the list "
   ]
  },
  {
   "cell_type": "code",
   "execution_count": 24,
   "id": "3fcef571-7222-4d44-b5e5-3a071435e5c2",
   "metadata": {},
   "outputs": [],
   "source": [
    "# Q) can we add list inside list ?"
   ]
  },
  {
   "cell_type": "code",
   "execution_count": 25,
   "id": "e26b7ca4-ab58-4718-8357-5cdd7a130c70",
   "metadata": {},
   "outputs": [],
   "source": [
    "# ans :- let us see "
   ]
  },
  {
   "cell_type": "code",
   "execution_count": 26,
   "id": "18047799-dc20-427b-a7b0-de4318558548",
   "metadata": {},
   "outputs": [],
   "source": [
    "c.append(l2)"
   ]
  },
  {
   "cell_type": "code",
   "execution_count": 27,
   "id": "f9d46a49-b690-43d1-94a3-20cd0c068510",
   "metadata": {},
   "outputs": [
    {
     "data": {
      "text/plain": [
       "[34.3,\n",
       " 45,\n",
       " True,\n",
       " False,\n",
       " (4+23j),\n",
       " 'suraj kumar',\n",
       " ' Niraj kumar ',\n",
       " ' Nisha kumari',\n",
       " 23,\n",
       " 23,\n",
       " 23,\n",
       " 2,\n",
       " 2,\n",
       " 23,\n",
       " 'suraj kumar Binod Prasad',\n",
       " [1, 2, 3, 4, 5]]"
      ]
     },
     "execution_count": 27,
     "metadata": {},
     "output_type": "execute_result"
    }
   ],
   "source": [
    "c"
   ]
  },
  {
   "cell_type": "code",
   "execution_count": 28,
   "id": "70743518-4110-4dfa-af62-d4a640b093fb",
   "metadata": {},
   "outputs": [],
   "source": [
    "# so here at the end you can see the result"
   ]
  },
  {
   "cell_type": "code",
   "execution_count": 29,
   "id": "a98211e2-bce4-41a0-8e6a-2756d8bf11f0",
   "metadata": {},
   "outputs": [],
   "source": [
    "# now can you show us to print 2 from the list c  ?\n"
   ]
  },
  {
   "cell_type": "code",
   "execution_count": 31,
   "id": "a8c407e4-8307-4119-8f2e-c19af9bd0c15",
   "metadata": {},
   "outputs": [
    {
     "data": {
      "text/plain": [
       "2"
      ]
     },
     "execution_count": 31,
     "metadata": {},
     "output_type": "execute_result"
    }
   ],
   "source": [
    "c[-1][1]"
   ]
  },
  {
   "cell_type": "code",
   "execution_count": 32,
   "id": "1d592252-c9db-48bd-a3da-992bea6e10eb",
   "metadata": {},
   "outputs": [],
   "source": [
    "# now can you show us to print 3 from the c ka list ?"
   ]
  },
  {
   "cell_type": "code",
   "execution_count": 33,
   "id": "40cd2463-8343-428a-a9e6-8d571f2f4257",
   "metadata": {},
   "outputs": [
    {
     "data": {
      "text/plain": [
       "3"
      ]
     },
     "execution_count": 33,
     "metadata": {},
     "output_type": "execute_result"
    }
   ],
   "source": [
    "c[-1][-3]"
   ]
  },
  {
   "cell_type": "code",
   "execution_count": 34,
   "id": "8d775045-e726-4837-9068-f290742e5450",
   "metadata": {},
   "outputs": [],
   "source": [
    "#  what is extend function?"
   ]
  },
  {
   "cell_type": "code",
   "execution_count": 35,
   "id": "34ac747c-2590-4ff4-befe-3abf039a0a01",
   "metadata": {},
   "outputs": [
    {
     "data": {
      "text/plain": [
       "[34.3,\n",
       " 45,\n",
       " True,\n",
       " False,\n",
       " (4+23j),\n",
       " 'suraj kumar',\n",
       " ' Niraj kumar ',\n",
       " ' Nisha kumari',\n",
       " 23,\n",
       " 23,\n",
       " 23,\n",
       " 2,\n",
       " 2,\n",
       " 23,\n",
       " 'suraj kumar Binod Prasad',\n",
       " [1, 2, 3, 4, 5]]"
      ]
     },
     "execution_count": 35,
     "metadata": {},
     "output_type": "execute_result"
    }
   ],
   "source": [
    "c"
   ]
  },
  {
   "cell_type": "code",
   "execution_count": 36,
   "id": "bc4ed3d5-d5dc-4e1f-937f-ba17f4719b17",
   "metadata": {},
   "outputs": [],
   "source": [
    "c.extend(\"suraj\")"
   ]
  },
  {
   "cell_type": "code",
   "execution_count": 37,
   "id": "0fcb60d4-b99e-42b4-898c-e8548f96fb06",
   "metadata": {},
   "outputs": [
    {
     "data": {
      "text/plain": [
       "[34.3,\n",
       " 45,\n",
       " True,\n",
       " False,\n",
       " (4+23j),\n",
       " 'suraj kumar',\n",
       " ' Niraj kumar ',\n",
       " ' Nisha kumari',\n",
       " 23,\n",
       " 23,\n",
       " 23,\n",
       " 2,\n",
       " 2,\n",
       " 23,\n",
       " 'suraj kumar Binod Prasad',\n",
       " [1, 2, 3, 4, 5],\n",
       " 's',\n",
       " 'u',\n",
       " 'r',\n",
       " 'a',\n",
       " 'j']"
      ]
     },
     "execution_count": 37,
     "metadata": {},
     "output_type": "execute_result"
    }
   ],
   "source": [
    "c                     # as you can see suraj is added in the list c par pura tod tod ke add kiya hai matlab uska itratin kar ke ( itreable matlab vahi jisme data ke andar data ho )"
   ]
  },
  {
   "cell_type": "code",
   "execution_count": 38,
   "id": "f8ea26d0-1af3-4b63-a0a2-c28e58abbfcf",
   "metadata": {},
   "outputs": [],
   "source": [
    "# but when we will go to add intiger we will get error "
   ]
  },
  {
   "cell_type": "code",
   "execution_count": 39,
   "id": "76ef7a08-8699-41c2-96bd-e8d0b601fa61",
   "metadata": {},
   "outputs": [
    {
     "ename": "TypeError",
     "evalue": "'int' object is not iterable",
     "output_type": "error",
     "traceback": [
      "\u001b[0;31m---------------------------------------------------------------------------\u001b[0m",
      "\u001b[0;31mTypeError\u001b[0m                                 Traceback (most recent call last)",
      "Cell \u001b[0;32mIn[39], line 1\u001b[0m\n\u001b[0;32m----> 1\u001b[0m \u001b[43mc\u001b[49m\u001b[38;5;241;43m.\u001b[39;49m\u001b[43mextend\u001b[49m\u001b[43m(\u001b[49m\u001b[38;5;241;43m23\u001b[39;49m\u001b[43m)\u001b[49m\n",
      "\u001b[0;31mTypeError\u001b[0m: 'int' object is not iterable"
     ]
    }
   ],
   "source": [
    "c.extend(23)"
   ]
  },
  {
   "cell_type": "code",
   "execution_count": 40,
   "id": "f37fbb8d-308d-483b-9b00-c4acb8fb1331",
   "metadata": {},
   "outputs": [],
   "source": [
    "# qnki intigers are not iterable "
   ]
  },
  {
   "cell_type": "code",
   "execution_count": 41,
   "id": "86230508-7c7d-4652-abe1-c1eb72bc86b2",
   "metadata": {},
   "outputs": [],
   "source": [
    "# the difference beween append and extend is append as it is add kar deta  hai data ko whereas extend pahle agar string hoga to use unwrap karega character me aur fir use add karega agar list hai to use bhi unwrap karegg and then add karega"
   ]
  },
  {
   "cell_type": "code",
   "execution_count": 42,
   "id": "e3f09ae4-f2cf-47ac-ae68-71d36338f34a",
   "metadata": {},
   "outputs": [],
   "source": [
    "# what if i want to add data in my deasirable palce matlab ki first position pe dalna hai ua 3rd pe ya  fifth me fir kaise karenge to uske liye ek function atta hai name  as\"  insert(a,b) \"       jisme a = jahan pe dalna hai uska positionn ka name and b = jo bhi value put karni hai vo\n",
    "# note :- using insert function you can add string as well as intiger , float , complex too!."
   ]
  },
  {
   "cell_type": "code",
   "execution_count": 43,
   "id": "750be4e3-3508-4152-ab6e-69d50e11e6d3",
   "metadata": {},
   "outputs": [
    {
     "data": {
      "text/plain": [
       "[34.3,\n",
       " 45,\n",
       " True,\n",
       " False,\n",
       " (4+23j),\n",
       " 'suraj kumar',\n",
       " ' Niraj kumar ',\n",
       " ' Nisha kumari',\n",
       " 23,\n",
       " 23,\n",
       " 23,\n",
       " 2,\n",
       " 2,\n",
       " 23,\n",
       " 'suraj kumar Binod Prasad',\n",
       " [1, 2, 3, 4, 5],\n",
       " 's',\n",
       " 'u',\n",
       " 'r',\n",
       " 'a',\n",
       " 'j']"
      ]
     },
     "execution_count": 43,
     "metadata": {},
     "output_type": "execute_result"
    }
   ],
   "source": [
    "c"
   ]
  },
  {
   "cell_type": "code",
   "execution_count": 44,
   "id": "55421676-8bd3-406c-8a76-e10be93c686d",
   "metadata": {},
   "outputs": [],
   "source": [
    "# if i want to add 67  in first postion of list then "
   ]
  },
  {
   "cell_type": "code",
   "execution_count": 45,
   "id": "41d14b98-aecd-474b-9793-9796c8fad2ff",
   "metadata": {},
   "outputs": [],
   "source": [
    "c.insert(0,67)"
   ]
  },
  {
   "cell_type": "code",
   "execution_count": 46,
   "id": "fe8f6dce-b418-44ed-9ee8-62f364208f66",
   "metadata": {},
   "outputs": [
    {
     "data": {
      "text/plain": [
       "[67,\n",
       " 34.3,\n",
       " 45,\n",
       " True,\n",
       " False,\n",
       " (4+23j),\n",
       " 'suraj kumar',\n",
       " ' Niraj kumar ',\n",
       " ' Nisha kumari',\n",
       " 23,\n",
       " 23,\n",
       " 23,\n",
       " 2,\n",
       " 2,\n",
       " 23,\n",
       " 'suraj kumar Binod Prasad',\n",
       " [1, 2, 3, 4, 5],\n",
       " 's',\n",
       " 'u',\n",
       " 'r',\n",
       " 'a',\n",
       " 'j']"
      ]
     },
     "execution_count": 46,
     "metadata": {},
     "output_type": "execute_result"
    }
   ],
   "source": [
    "c               # you can see the result "
   ]
  },
  {
   "cell_type": "code",
   "execution_count": 47,
   "id": "264145a1-7218-4318-be7c-090643dfc43f",
   "metadata": {},
   "outputs": [],
   "source": [
    " # if i want to add sunny at the 10 th position tehn "
   ]
  },
  {
   "cell_type": "code",
   "execution_count": 48,
   "id": "da5036f1-5cc1-4231-b6ce-0bbfe8350e31",
   "metadata": {},
   "outputs": [],
   "source": [
    "c.insert(10,\"sunny\")"
   ]
  },
  {
   "cell_type": "code",
   "execution_count": 49,
   "id": "afa4488f-2f92-4e41-99fe-fe4f434160ad",
   "metadata": {},
   "outputs": [
    {
     "data": {
      "text/plain": [
       "[67,\n",
       " 34.3,\n",
       " 45,\n",
       " True,\n",
       " False,\n",
       " (4+23j),\n",
       " 'suraj kumar',\n",
       " ' Niraj kumar ',\n",
       " ' Nisha kumari',\n",
       " 23,\n",
       " 'sunny',\n",
       " 23,\n",
       " 23,\n",
       " 2,\n",
       " 2,\n",
       " 23,\n",
       " 'suraj kumar Binod Prasad',\n",
       " [1, 2, 3, 4, 5],\n",
       " 's',\n",
       " 'u',\n",
       " 'r',\n",
       " 'a',\n",
       " 'j']"
      ]
     },
     "execution_count": 49,
     "metadata": {},
     "output_type": "execute_result"
    }
   ],
   "source": [
    "c"
   ]
  },
  {
   "cell_type": "code",
   "execution_count": 50,
   "id": "1da22fe9-869c-45cf-a8e3-c54c41c1ef7c",
   "metadata": {},
   "outputs": [],
   "source": [
    "# now see one controvsial thing what if i consider -ve indexing let cosdir -1 "
   ]
  },
  {
   "cell_type": "code",
   "execution_count": 51,
   "id": "3c719b2c-14e1-4b98-bc92-f291a2c1527c",
   "metadata": {},
   "outputs": [],
   "source": [
    "c.insert(-1,\"NIRAJ\")\n"
   ]
  },
  {
   "cell_type": "code",
   "execution_count": 52,
   "id": "05e00158-51b7-4036-9c96-094df4766c64",
   "metadata": {},
   "outputs": [
    {
     "data": {
      "text/plain": [
       "[67,\n",
       " 34.3,\n",
       " 45,\n",
       " True,\n",
       " False,\n",
       " (4+23j),\n",
       " 'suraj kumar',\n",
       " ' Niraj kumar ',\n",
       " ' Nisha kumari',\n",
       " 23,\n",
       " 'sunny',\n",
       " 23,\n",
       " 23,\n",
       " 2,\n",
       " 2,\n",
       " 23,\n",
       " 'suraj kumar Binod Prasad',\n",
       " [1, 2, 3, 4, 5],\n",
       " 's',\n",
       " 'u',\n",
       " 'r',\n",
       " 'a',\n",
       " 'NIRAJ',\n",
       " 'j']"
      ]
     },
     "execution_count": 52,
     "metadata": {},
     "output_type": "execute_result"
    }
   ],
   "source": [
    "c             # here you can see NIRAJ is added to -1 postion only but j is shifted toward to right matlb hamlog koi bhi value add kare vahan pe pahle se maujud value right side me shift ho hati hai yaad rakhna "
   ]
  },
  {
   "cell_type": "code",
   "execution_count": 53,
   "id": "9a62f441-8217-4ece-afb4-8fd7028da05f",
   "metadata": {},
   "outputs": [],
   "source": [
    "# now how to remove any data from lsit then use pop function \n",
    "# pop()  function is use to remove and return item at index..............\n",
    "# see if you not write any index value in the bracket it will consider last wala  or we can say (-1 th index) by default........"
   ]
  },
  {
   "cell_type": "code",
   "execution_count": 54,
   "id": "117c56eb-01ec-418b-b393-21704df60d75",
   "metadata": {},
   "outputs": [
    {
     "data": {
      "text/plain": [
       "'j'"
      ]
     },
     "execution_count": 54,
     "metadata": {},
     "output_type": "execute_result"
    }
   ],
   "source": [
    "c.pop()"
   ]
  },
  {
   "cell_type": "code",
   "execution_count": 55,
   "id": "699bbdb6-cd5a-454e-ac02-77218ea81df0",
   "metadata": {},
   "outputs": [
    {
     "data": {
      "text/plain": [
       "'NIRAJ'"
      ]
     },
     "execution_count": 55,
     "metadata": {},
     "output_type": "execute_result"
    }
   ],
   "source": [
    "c.pop()"
   ]
  },
  {
   "cell_type": "code",
   "execution_count": 56,
   "id": "1f8a6432-2e47-4dc4-9c4d-32e968140213",
   "metadata": {},
   "outputs": [
    {
     "data": {
      "text/plain": [
       "'a'"
      ]
     },
     "execution_count": 56,
     "metadata": {},
     "output_type": "execute_result"
    }
   ],
   "source": [
    "c.pop()"
   ]
  },
  {
   "cell_type": "code",
   "execution_count": 57,
   "id": "9c795936-0da7-423b-8d0b-7d9e8a8efa50",
   "metadata": {},
   "outputs": [
    {
     "data": {
      "text/plain": [
       "'r'"
      ]
     },
     "execution_count": 57,
     "metadata": {},
     "output_type": "execute_result"
    }
   ],
   "source": [
    "c.pop()"
   ]
  },
  {
   "cell_type": "code",
   "execution_count": 58,
   "id": "97fa14c5-a952-4f25-9503-c8930a80f510",
   "metadata": {},
   "outputs": [
    {
     "data": {
      "text/plain": [
       "'u'"
      ]
     },
     "execution_count": 58,
     "metadata": {},
     "output_type": "execute_result"
    }
   ],
   "source": [
    "c.pop()"
   ]
  },
  {
   "cell_type": "code",
   "execution_count": 59,
   "id": "02a7b9b1-b2fd-4a8a-a319-c3f0df2d221d",
   "metadata": {},
   "outputs": [
    {
     "data": {
      "text/plain": [
       "'s'"
      ]
     },
     "execution_count": 59,
     "metadata": {},
     "output_type": "execute_result"
    }
   ],
   "source": [
    "c.pop()"
   ]
  },
  {
   "cell_type": "code",
   "execution_count": 60,
   "id": "51aeabe7-b262-465d-a76e-e7885be23a92",
   "metadata": {},
   "outputs": [
    {
     "data": {
      "text/plain": [
       "[1, 2, 3, 4, 5]"
      ]
     },
     "execution_count": 60,
     "metadata": {},
     "output_type": "execute_result"
    }
   ],
   "source": [
    "c.pop()"
   ]
  },
  {
   "cell_type": "code",
   "execution_count": 61,
   "id": "c59ebc44-1370-4bba-89c4-99225a02677b",
   "metadata": {},
   "outputs": [],
   "source": [
    "# so here you can see that pop function by default last wale data ko nikalte ja raha hai"
   ]
  },
  {
   "cell_type": "code",
   "execution_count": 62,
   "id": "1d2bc39d-b4dc-4cca-9691-34aed9bfe38b",
   "metadata": {},
   "outputs": [],
   "source": [
    "# now our list c is got  reduce to               see downsdie ......"
   ]
  },
  {
   "cell_type": "code",
   "execution_count": 63,
   "id": "3fe1a904-d7b4-4318-a2b0-3e5f696ae536",
   "metadata": {},
   "outputs": [
    {
     "data": {
      "text/plain": [
       "[67,\n",
       " 34.3,\n",
       " 45,\n",
       " True,\n",
       " False,\n",
       " (4+23j),\n",
       " 'suraj kumar',\n",
       " ' Niraj kumar ',\n",
       " ' Nisha kumari',\n",
       " 23,\n",
       " 'sunny',\n",
       " 23,\n",
       " 23,\n",
       " 2,\n",
       " 2,\n",
       " 23,\n",
       " 'suraj kumar Binod Prasad']"
      ]
     },
     "execution_count": 63,
     "metadata": {},
     "output_type": "execute_result"
    }
   ],
   "source": [
    "c"
   ]
  },
  {
   "cell_type": "code",
   "execution_count": 65,
   "id": "8c6f8daa-a22b-4a0a-b3d2-f891a9f5f668",
   "metadata": {},
   "outputs": [
    {
     "data": {
      "text/plain": [
       "'sunny'"
      ]
     },
     "execution_count": 65,
     "metadata": {},
     "output_type": "execute_result"
    }
   ],
   "source": [
    "c.pop(10)"
   ]
  },
  {
   "cell_type": "code",
   "execution_count": 66,
   "id": "7833c8ca-ac3b-4556-bb50-4bbab0579763",
   "metadata": {},
   "outputs": [
    {
     "data": {
      "text/plain": [
       "23"
      ]
     },
     "execution_count": 66,
     "metadata": {},
     "output_type": "execute_result"
    }
   ],
   "source": [
    "c.pop(10)"
   ]
  },
  {
   "cell_type": "code",
   "execution_count": 67,
   "id": "6198ef3d-5bf2-4860-bda0-8880c5eddf6e",
   "metadata": {},
   "outputs": [
    {
     "data": {
      "text/plain": [
       "23"
      ]
     },
     "execution_count": 67,
     "metadata": {},
     "output_type": "execute_result"
    }
   ],
   "source": [
    "c.pop(10)\n"
   ]
  },
  {
   "cell_type": "code",
   "execution_count": 68,
   "id": "6e28f31f-48bd-4df5-a07e-cf35098883c9",
   "metadata": {},
   "outputs": [
    {
     "data": {
      "text/plain": [
       "2"
      ]
     },
     "execution_count": 68,
     "metadata": {},
     "output_type": "execute_result"
    }
   ],
   "source": [
    "c.pop(10)"
   ]
  },
  {
   "cell_type": "code",
   "execution_count": 69,
   "id": "95ebb3a7-24af-48d8-80da-fa2d9d4b5841",
   "metadata": {},
   "outputs": [
    {
     "data": {
      "text/plain": [
       "2"
      ]
     },
     "execution_count": 69,
     "metadata": {},
     "output_type": "execute_result"
    }
   ],
   "source": [
    "c.pop(10)"
   ]
  },
  {
   "cell_type": "code",
   "execution_count": 70,
   "id": "b94b37ab-5cb1-4329-ac1d-12d72f9ee244",
   "metadata": {},
   "outputs": [
    {
     "data": {
      "text/plain": [
       "23"
      ]
     },
     "execution_count": 70,
     "metadata": {},
     "output_type": "execute_result"
    }
   ],
   "source": [
    "c.pop(10)"
   ]
  },
  {
   "cell_type": "code",
   "execution_count": 71,
   "id": "eb648d49-0631-4d12-8c73-b0d0cc29ab5b",
   "metadata": {},
   "outputs": [
    {
     "data": {
      "text/plain": [
       "'suraj kumar Binod Prasad'"
      ]
     },
     "execution_count": 71,
     "metadata": {},
     "output_type": "execute_result"
    }
   ],
   "source": [
    "c.pop(10)"
   ]
  },
  {
   "cell_type": "code",
   "execution_count": 73,
   "id": "5239bb27-d432-4dc7-a9cd-d595475b2218",
   "metadata": {},
   "outputs": [
    {
     "data": {
      "text/plain": [
       "(4+23j)"
      ]
     },
     "execution_count": 73,
     "metadata": {},
     "output_type": "execute_result"
    }
   ],
   "source": [
    "c.pop(5)"
   ]
  },
  {
   "cell_type": "code",
   "execution_count": 75,
   "id": "93f500bb-cce0-46f1-9c2c-a7a77d2deea8",
   "metadata": {},
   "outputs": [
    {
     "data": {
      "text/plain": [
       "'suraj kumar'"
      ]
     },
     "execution_count": 75,
     "metadata": {},
     "output_type": "execute_result"
    }
   ],
   "source": [
    "c.pop(5)"
   ]
  },
  {
   "cell_type": "code",
   "execution_count": 76,
   "id": "aa8a48fd-3446-483d-b493-271b40a8479c",
   "metadata": {},
   "outputs": [],
   "source": [
    "# now our list is reduced to "
   ]
  },
  {
   "cell_type": "code",
   "execution_count": 77,
   "id": "3cc13e55-9ea8-4109-97e9-cafc3459b24c",
   "metadata": {},
   "outputs": [
    {
     "data": {
      "text/plain": [
       "[67, 34.3, 45, True, False, ' Niraj kumar ', ' Nisha kumari', 23]"
      ]
     },
     "execution_count": 77,
     "metadata": {},
     "output_type": "execute_result"
    }
   ],
   "source": [
    "c"
   ]
  },
  {
   "cell_type": "code",
   "execution_count": 79,
   "id": "77847c4b-2812-4724-a764-1126e55f8b1b",
   "metadata": {},
   "outputs": [],
   "source": [
    "# one more function is there i.e 'remove' function is use to remove the value which you want to remove you just enter the vlue in the bracket then it will be removed\n",
    "# see how \n"
   ]
  },
  {
   "cell_type": "code",
   "execution_count": 83,
   "id": "7401aebf-a487-400a-bba1-4f8f35448c76",
   "metadata": {},
   "outputs": [],
   "source": [
    "c.remove(45)"
   ]
  },
  {
   "cell_type": "code",
   "execution_count": 84,
   "id": "52d0eafb-e7e8-44e1-b953-bba20864a5f7",
   "metadata": {},
   "outputs": [
    {
     "data": {
      "text/plain": [
       "[67, 34.3, True, False, ' Niraj kumar ', ' Nisha kumari', 23]"
      ]
     },
     "execution_count": 84,
     "metadata": {},
     "output_type": "execute_result"
    }
   ],
   "source": [
    "c"
   ]
  },
  {
   "cell_type": "code",
   "execution_count": 85,
   "id": "df40b7b7-931e-422b-af7c-fd7846223190",
   "metadata": {},
   "outputs": [],
   "source": [
    "c.remove(True)"
   ]
  },
  {
   "cell_type": "code",
   "execution_count": 92,
   "id": "973f220c-2154-4beb-a083-0f54d91cf48c",
   "metadata": {},
   "outputs": [
    {
     "data": {
      "text/plain": [
       "[67, 34.3, False, ' Niraj kumar ', ' Nisha kumari', 23]"
      ]
     },
     "execution_count": 92,
     "metadata": {},
     "output_type": "execute_result"
    }
   ],
   "source": [
    "c"
   ]
  },
  {
   "cell_type": "code",
   "execution_count": 95,
   "id": "d58ffd6d-547e-4a2f-828a-60e780ee6bb1",
   "metadata": {},
   "outputs": [],
   "source": [
    "c.append([2,3,4])"
   ]
  },
  {
   "cell_type": "code",
   "execution_count": 96,
   "id": "a254059b-e939-4f71-92f9-414e738e5c65",
   "metadata": {},
   "outputs": [
    {
     "data": {
      "text/plain": [
       "[67, 34.3, False, ' Niraj kumar ', ' Nisha kumari', 23, [2, 3, 4]]"
      ]
     },
     "execution_count": 96,
     "metadata": {},
     "output_type": "execute_result"
    }
   ],
   "source": [
    "c"
   ]
  },
  {
   "cell_type": "code",
   "execution_count": 87,
   "id": "e8047d7f-4a33-4222-b95a-c5e906809cf4",
   "metadata": {},
   "outputs": [],
   "source": [
    "# see what if we want to remove 3 from  [2,3,4]   then ?\n",
    "# see we cannot remove directly but we will have to do in some steps as you can see below i have done it!!"
   ]
  },
  {
   "cell_type": "code",
   "execution_count": 97,
   "id": "8d4d00a6-6770-4c86-81ab-8e7f03f163d3",
   "metadata": {},
   "outputs": [
    {
     "data": {
      "text/plain": [
       "[2, 3, 4]"
      ]
     },
     "execution_count": 97,
     "metadata": {},
     "output_type": "execute_result"
    }
   ],
   "source": [
    "c[-1]                    "
   ]
  },
  {
   "cell_type": "code",
   "execution_count": 98,
   "id": "078baba9-2b59-45c3-a392-ec27222f732f",
   "metadata": {},
   "outputs": [],
   "source": [
    "c[-1].remove(3)"
   ]
  },
  {
   "cell_type": "code",
   "execution_count": 99,
   "id": "524b4ce7-1aef-48d5-9f13-d7f40125d77d",
   "metadata": {},
   "outputs": [
    {
     "data": {
      "text/plain": [
       "[67, 34.3, False, ' Niraj kumar ', ' Nisha kumari', 23, [2, 4]]"
      ]
     },
     "execution_count": 99,
     "metadata": {},
     "output_type": "execute_result"
    }
   ],
   "source": [
    "c            # hecne we have susscefully removed the 3 from list "
   ]
  },
  {
   "cell_type": "code",
   "execution_count": 100,
   "id": "9ee440b5-7f32-4e87-935c-8ec4458b88fe",
   "metadata": {},
   "outputs": [],
   "source": [
    "# Q) what is the differnce between c[::-1] and c.reverse() ?\n",
    "# see  in both case our list is got  reverse but c[::-1] it reverse temporary and by using reverse function we reversed it permantly ."
   ]
  },
  {
   "cell_type": "code",
   "execution_count": null,
   "id": "cd8a1bd4-0923-4377-a1d0-d4563d425b2f",
   "metadata": {},
   "outputs": [],
   "source": []
  },
  {
   "cell_type": "code",
   "execution_count": null,
   "id": "2b019f36-cc37-4e6b-93a0-2a1f41dc01d5",
   "metadata": {},
   "outputs": [],
   "source": []
  },
  {
   "cell_type": "code",
   "execution_count": 13,
   "id": "809b32a4-4b93-44ec-b237-269a871d9be7",
   "metadata": {},
   "outputs": [],
   "source": [
    "# now one new fuction we will study i.e sort which the intigers present in list will be arranged in ascending order \n",
    "# but note only intiger should be present there and not string and list ........... below see the example ......!!"
   ]
  },
  {
   "cell_type": "code",
   "execution_count": 14,
   "id": "07976bdd-62ba-467f-8343-382ad6ed8617",
   "metadata": {},
   "outputs": [],
   "source": [
    "t3=[2,98,56,74,23,41,14,56,68,90,99,88,77,66,34,]"
   ]
  },
  {
   "cell_type": "code",
   "execution_count": 15,
   "id": "1855bfc7-ea0a-45e0-9e5a-6512974576da",
   "metadata": {},
   "outputs": [],
   "source": [
    "t3.sort()"
   ]
  },
  {
   "cell_type": "code",
   "execution_count": 16,
   "id": "868ff92c-682b-4e8b-bdf3-889bead19bf4",
   "metadata": {},
   "outputs": [
    {
     "data": {
      "text/plain": [
       "[2, 14, 23, 34, 41, 56, 56, 66, 68, 74, 77, 88, 90, 98, 99]"
      ]
     },
     "execution_count": 16,
     "metadata": {},
     "output_type": "execute_result"
    }
   ],
   "source": [
    "t3             # so here is the result"
   ]
  },
  {
   "cell_type": "code",
   "execution_count": null,
   "id": "c4ceae39-f8e8-4bf5-b85e-f17bde673e49",
   "metadata": {},
   "outputs": [],
   "source": [
    "  # but what if we sort the mixture of list ans string and intiger "
   ]
  },
  {
   "cell_type": "code",
   "execution_count": 17,
   "id": "ec2d16dc-69b8-427d-a968-b36feca263f8",
   "metadata": {},
   "outputs": [],
   "source": [
    "t4=[34,24,25,12,1,2,3,7,8,9,90,99,78,[5,6,5,4,4],'suraj', 'niraj']"
   ]
  },
  {
   "cell_type": "code",
   "execution_count": 18,
   "id": "2141ee3b-1f33-4f57-aa81-e88c69a68785",
   "metadata": {},
   "outputs": [
    {
     "ename": "TypeError",
     "evalue": "'<' not supported between instances of 'list' and 'int'",
     "output_type": "error",
     "traceback": [
      "\u001b[0;31m---------------------------------------------------------------------------\u001b[0m",
      "\u001b[0;31mTypeError\u001b[0m                                 Traceback (most recent call last)",
      "Cell \u001b[0;32mIn[18], line 1\u001b[0m\n\u001b[0;32m----> 1\u001b[0m \u001b[43mt4\u001b[49m\u001b[38;5;241;43m.\u001b[39;49m\u001b[43msort\u001b[49m\u001b[43m(\u001b[49m\u001b[43m)\u001b[49m\n",
      "\u001b[0;31mTypeError\u001b[0m: '<' not supported between instances of 'list' and 'int'"
     ]
    }
   ],
   "source": [
    "t4.sort()                # here you can see the error as expected "
   ]
  },
  {
   "cell_type": "code",
   "execution_count": 1,
   "id": "50bc775d-c40f-42f2-8704-7ea5f945e723",
   "metadata": {},
   "outputs": [],
   "source": [
    "l5=[\"suraj\",\"sudhanshu sir\", \"suraj kumar\", \"krish naik sir\"]"
   ]
  },
  {
   "cell_type": "code",
   "execution_count": 2,
   "id": "b19f6718-4d0b-48df-8663-9b38ec7e1c91",
   "metadata": {},
   "outputs": [
    {
     "data": {
      "text/plain": [
       "['suraj', 'sudhanshu sir', 'suraj kumar', 'krish naik sir']"
      ]
     },
     "execution_count": 2,
     "metadata": {},
     "output_type": "execute_result"
    }
   ],
   "source": [
    "l5"
   ]
  },
  {
   "cell_type": "code",
   "execution_count": 4,
   "id": "537e5a70-3773-43fb-9168-c78714674761",
   "metadata": {},
   "outputs": [],
   "source": [
    "l5.sort()"
   ]
  },
  {
   "cell_type": "code",
   "execution_count": 5,
   "id": "c779485b-9b20-4135-b01a-f4525a86dc8d",
   "metadata": {},
   "outputs": [
    {
     "data": {
      "text/plain": [
       "['krish naik sir', 'sudhanshu sir', 'suraj', 'suraj kumar']"
      ]
     },
     "execution_count": 5,
     "metadata": {},
     "output_type": "execute_result"
    }
   ],
   "source": [
    "l5"
   ]
  },
  {
   "cell_type": "code",
   "execution_count": 6,
   "id": "2f8e6b3a-9062-4c7b-b91b-31e3ae69da39",
   "metadata": {},
   "outputs": [],
   "source": [
    "l5.sort(reverse=True)       #with he help of this we have sorted the string in descending order means by using reverse=True"
   ]
  },
  {
   "cell_type": "code",
   "execution_count": 8,
   "id": "58a16d55-e8ed-40f3-9369-aaf8b27cb243",
   "metadata": {},
   "outputs": [
    {
     "data": {
      "text/plain": [
       "['suraj kumar', 'suraj', 'sudhanshu sir', 'krish naik sir']"
      ]
     },
     "execution_count": 8,
     "metadata": {},
     "output_type": "execute_result"
    }
   ],
   "source": [
    "l5"
   ]
  },
  {
   "cell_type": "code",
   "execution_count": 9,
   "id": "18debe9f-5f8a-47c7-b8ea-4b67e883ac31",
   "metadata": {},
   "outputs": [
    {
     "data": {
      "text/plain": [
       "['suraj kumar', 'suraj', 'sudhanshu sir', 'krish naik sir']"
      ]
     },
     "execution_count": 9,
     "metadata": {},
     "output_type": "execute_result"
    }
   ],
   "source": [
    "l5"
   ]
  },
  {
   "cell_type": "code",
   "execution_count": 13,
   "id": "b77f4953-6ceb-4506-a127-29d53f40e42b",
   "metadata": {},
   "outputs": [
    {
     "data": {
      "text/plain": [
       "1"
      ]
     },
     "execution_count": 13,
     "metadata": {},
     "output_type": "execute_result"
    }
   ],
   "source": [
    "l5.index('suraj')            #index fuction is used to find the position of any value in list it will tell its index value"
   ]
  },
  {
   "cell_type": "code",
   "execution_count": 15,
   "id": "6c0d7907-79a0-4e01-8f51-0066c0b73265",
   "metadata": {},
   "outputs": [
    {
     "data": {
      "text/plain": [
       "1"
      ]
     },
     "execution_count": 15,
     "metadata": {},
     "output_type": "execute_result"
    }
   ],
   "source": [
    "l5.count('suraj kumar')          #count function will tell the occurance of that string or anything it may be (kitne baar hai likha hua hai)"
   ]
  },
  {
   "cell_type": "code",
   "execution_count": 16,
   "id": "84bd2e2b-af34-437d-a7fd-474c1b5e69eb",
   "metadata": {},
   "outputs": [
    {
     "data": {
      "text/plain": [
       "['suraj kumar', 'suraj', 'sudhanshu sir', 'krish naik sir']"
      ]
     },
     "execution_count": 16,
     "metadata": {},
     "output_type": "execute_result"
    }
   ],
   "source": [
    "l5"
   ]
  },
  {
   "cell_type": "code",
   "execution_count": 17,
   "id": "9bcafbdd-5890-4e3f-94c2-d4cf72c5bcc2",
   "metadata": {},
   "outputs": [],
   "source": [
    "b='siddhi'     # can you replace \"i\" of last one with \"u\"  let see kar ke dekhte hai"
   ]
  },
  {
   "cell_type": "code",
   "execution_count": 19,
   "id": "b8682f07-6223-4e9a-956d-e4fd52b213ae",
   "metadata": {},
   "outputs": [
    {
     "ename": "TypeError",
     "evalue": "'str' object does not support item assignment",
     "output_type": "error",
     "traceback": [
      "\u001b[0;31m---------------------------------------------------------------------------\u001b[0m",
      "\u001b[0;31mTypeError\u001b[0m                                 Traceback (most recent call last)",
      "Cell \u001b[0;32mIn[19], line 1\u001b[0m\n\u001b[0;32m----> 1\u001b[0m \u001b[43mb\u001b[49m\u001b[43m[\u001b[49m\u001b[38;5;241;43m-\u001b[39;49m\u001b[38;5;241;43m1\u001b[39;49m\u001b[43m]\u001b[49m \u001b[38;5;241m=\u001b[39m \u001b[38;5;124m'\u001b[39m\u001b[38;5;124mu\u001b[39m\u001b[38;5;124m'\u001b[39m\n",
      "\u001b[0;31mTypeError\u001b[0m: 'str' object does not support item assignment"
     ]
    }
   ],
   "source": [
    "b[-1] = 'u'       # so we cannot do"
   ]
  },
  {
   "cell_type": "code",
   "execution_count": 21,
   "id": "9e9a9e4e-1a3b-41f2-b6b1-8721719ff146",
   "metadata": {},
   "outputs": [],
   "source": [
    "l1=[1,2,3,4,5,6]"
   ]
  },
  {
   "cell_type": "code",
   "execution_count": 22,
   "id": "cb8502c2-9241-4aa5-be3e-f522de93df98",
   "metadata": {},
   "outputs": [
    {
     "data": {
      "text/plain": [
       "[1, 2, 3, 4, 5, 6]"
      ]
     },
     "execution_count": 22,
     "metadata": {},
     "output_type": "execute_result"
    }
   ],
   "source": [
    "l1"
   ]
  },
  {
   "cell_type": "code",
   "execution_count": 23,
   "id": "140e628b-3a82-4083-b180-5a07b9afa234",
   "metadata": {},
   "outputs": [],
   "source": [
    "# can you replace 2 with 20 let see kar ke dekhte hai"
   ]
  },
  {
   "cell_type": "code",
   "execution_count": 26,
   "id": "3b4448c0-965f-481d-b130-511afd7a0b6b",
   "metadata": {},
   "outputs": [],
   "source": [
    "l1[1] = 20"
   ]
  },
  {
   "cell_type": "code",
   "execution_count": 27,
   "id": "b251f1d3-e139-44f2-9db2-139f579b355a",
   "metadata": {},
   "outputs": [
    {
     "data": {
      "text/plain": [
       "[1, 20, 3, 4, 5, 6]"
      ]
     },
     "execution_count": 27,
     "metadata": {},
     "output_type": "execute_result"
    }
   ],
   "source": [
    "l1           #so as we can see that kaam ho gya "
   ]
  },
  {
   "cell_type": "code",
   "execution_count": 28,
   "id": "e3b347a7-5461-4141-a069-42029fcc7c02",
   "metadata": {},
   "outputs": [],
   "source": [
    "# to ek baaat to clear ho gayi ki string object does not support item assignment (immutable) whereas list  support item assignment (mutable)"
   ]
  },
  {
   "cell_type": "code",
   "execution_count": 29,
   "id": "c9d3a230-e53d-4e8b-b14c-2f61d19f27f8",
   "metadata": {},
   "outputs": [],
   "source": [
    "# but by using function replace(  ,  ) we can do these manuoulation in string also you can see downside"
   ]
  },
  {
   "cell_type": "code",
   "execution_count": 30,
   "id": "15f6b077-132d-49d8-97a3-b750e361a8fa",
   "metadata": {},
   "outputs": [
    {
     "data": {
      "text/plain": [
       "'siddhi'"
      ]
     },
     "execution_count": 30,
     "metadata": {},
     "output_type": "execute_result"
    }
   ],
   "source": [
    "b"
   ]
  },
  {
   "cell_type": "code",
   "execution_count": 33,
   "id": "a7e9767c-5d53-4617-b7f9-d1330f5fbe48",
   "metadata": {},
   "outputs": [
    {
     "data": {
      "text/plain": [
       "'suddhu'"
      ]
     },
     "execution_count": 33,
     "metadata": {},
     "output_type": "execute_result"
    }
   ],
   "source": [
    "  b.replace('i','u')                   # here i have replace i with u \n",
    "                                       #one thing a very important thing is this replace hoke jo naya word tyar hua vo new memory \n",
    "                                     # location me hua na ki usi me as like we as done while assinging with list"
   ]
  },
  {
   "cell_type": "code",
   "execution_count": 34,
   "id": "3b4aae04-65d4-4de3-a701-1bbd9eb67c51",
   "metadata": {},
   "outputs": [],
   "source": [
    "# ################  Tuples  ###########################"
   ]
  },
  {
   "cell_type": "code",
   "execution_count": 35,
   "id": "b2c3b0a7-1ac5-4e8f-8d76-f511a73751af",
   "metadata": {},
   "outputs": [],
   "source": [
    "# what is tuple ?\n",
    "\n",
    "# ans :- tuple is same as list(a collection of elements) the only differece is that tuples are not mutable as like list and also in tuple we put everyting in round bracket and in list we put everyting n square bracket \n",
    "           # you can see the example here downside"
   ]
  },
  {
   "cell_type": "code",
   "execution_count": 36,
   "id": "da1cac98-8a6b-46a9-b6ac-622161106b8e",
   "metadata": {},
   "outputs": [],
   "source": [
    "g=(23,45,67+23j,26,58,\"suraj\",454,\"niraj\",[2,4,'red',5,6+34j],\"nisha\")"
   ]
  },
  {
   "cell_type": "code",
   "execution_count": 37,
   "id": "fe6d6b25-b839-49f4-b481-1dadccc9a764",
   "metadata": {},
   "outputs": [
    {
     "data": {
      "text/plain": [
       "tuple"
      ]
     },
     "execution_count": 37,
     "metadata": {},
     "output_type": "execute_result"
    }
   ],
   "source": [
    "type(g)"
   ]
  },
  {
   "cell_type": "code",
   "execution_count": 39,
   "id": "26521e7f-8112-4af5-87fe-7411350240da",
   "metadata": {},
   "outputs": [
    {
     "data": {
      "text/plain": [
       "10"
      ]
     },
     "execution_count": 39,
     "metadata": {},
     "output_type": "execute_result"
    }
   ],
   "source": [
    "len(g)"
   ]
  },
  {
   "cell_type": "code",
   "execution_count": 40,
   "id": "ebdc3bfa-095f-4b19-86bd-2f4f35d85531",
   "metadata": {},
   "outputs": [
    {
     "data": {
      "text/plain": [
       "1"
      ]
     },
     "execution_count": 40,
     "metadata": {},
     "output_type": "execute_result"
    }
   ],
   "source": [
    "g.count(45)"
   ]
  },
  {
   "cell_type": "code",
   "execution_count": 41,
   "id": "94ccab8e-93f1-469f-9e04-5cf690c73c4b",
   "metadata": {},
   "outputs": [],
   "source": [
    "#see here we can do all thing which we were able to do in list but the only thing is manupulate nahi kar sakte bss \n",
    "# but the thing is only two fuction are only their for tuple that is index and count "
   ]
  },
  {
   "cell_type": "code",
   "execution_count": 43,
   "id": "9004f5d2-f802-4133-b940-3666a236aa44",
   "metadata": {},
   "outputs": [
    {
     "ename": "TypeError",
     "evalue": "'tuple' object does not support item assignment",
     "output_type": "error",
     "traceback": [
      "\u001b[0;31m---------------------------------------------------------------------------\u001b[0m",
      "\u001b[0;31mTypeError\u001b[0m                                 Traceback (most recent call last)",
      "Cell \u001b[0;32mIn[43], line 1\u001b[0m\n\u001b[0;32m----> 1\u001b[0m \u001b[43mg\u001b[49m\u001b[43m[\u001b[49m\u001b[38;5;241;43m6\u001b[39;49m\u001b[43m]\u001b[49m\u001b[38;5;241m=\u001b[39m\u001b[38;5;241m67\u001b[39m\n",
      "\u001b[0;31mTypeError\u001b[0m: 'tuple' object does not support item assignment"
     ]
    }
   ],
   "source": [
    "g[6]=67           # see eror got"
   ]
  },
  {
   "cell_type": "code",
   "execution_count": 44,
   "id": "6bea893d-e8dc-478b-aca6-824185772f58",
   "metadata": {},
   "outputs": [],
   "source": [
    "# these tuple is used to keep password safe so that no can manipulate it "
   ]
  },
  {
   "cell_type": "code",
   "execution_count": 46,
   "id": "6bf8e36b-892c-41e6-bdc6-28c55c543932",
   "metadata": {},
   "outputs": [],
   "source": [
    "z={}          # this is actually a dictionary because it is blank if we put anything inside it , it will show the tpype set "
   ]
  },
  {
   "cell_type": "code",
   "execution_count": 47,
   "id": "f05bca31-817f-4e2c-9775-d61aa945a4d0",
   "metadata": {},
   "outputs": [
    {
     "data": {
      "text/plain": [
       "dict"
      ]
     },
     "execution_count": 47,
     "metadata": {},
     "output_type": "execute_result"
    }
   ],
   "source": [
    "type(z)"
   ]
  },
  {
   "cell_type": "code",
   "execution_count": 48,
   "id": "6ff6632a-8b94-4d8c-a2db-ce23393cb31a",
   "metadata": {},
   "outputs": [],
   "source": [
    "z={3,2,4,5,5,67.7,65,\"suraj\",\"siddhi\", \"i love siddhi\" , (4,3,5,6,7.789, \"suraj \" , \"siddhi\" \"vaje\") }"
   ]
  },
  {
   "cell_type": "code",
   "execution_count": 49,
   "id": "80532354-25b2-49bd-ba5c-b506d71f4eb6",
   "metadata": {},
   "outputs": [
    {
     "data": {
      "text/plain": [
       "{(4, 3, 5, 6, 7.789, 'suraj ', 'siddhivaje'),\n",
       " 2,\n",
       " 3,\n",
       " 4,\n",
       " 5,\n",
       " 65,\n",
       " 67.7,\n",
       " 'i love siddhi',\n",
       " 'siddhi',\n",
       " 'suraj'}"
      ]
     },
     "execution_count": 49,
     "metadata": {},
     "output_type": "execute_result"
    }
   ],
   "source": [
    "z"
   ]
  },
  {
   "cell_type": "code",
   "execution_count": 50,
   "id": "7503be84-f3b1-440f-864a-89de99ecaafa",
   "metadata": {},
   "outputs": [],
   "source": [
    "# note set's are the collection of immutable object it means it cant contain list which are mutable but can contian tuple which are immutable\n"
   ]
  },
  {
   "cell_type": "code",
   "execution_count": 51,
   "id": "29fa2f47-c18f-4fde-84c9-e51b2852d3c5",
   "metadata": {},
   "outputs": [
    {
     "data": {
      "text/plain": [
       "set"
      ]
     },
     "execution_count": 51,
     "metadata": {},
     "output_type": "execute_result"
    }
   ],
   "source": [
    "type(z)"
   ]
  },
  {
   "cell_type": "code",
   "execution_count": null,
   "id": "92124d64-a4f4-4079-866f-a20f4f9695ee",
   "metadata": {},
   "outputs": [],
   "source": [
    "# what is the use of set ?\n",
    "ans:- it provedes you unique object means it remove all the repetative element "
   ]
  },
  {
   "cell_type": "code",
   "execution_count": 52,
   "id": "eea16ca3-4fac-4df8-9be6-b453c5d540cc",
   "metadata": {},
   "outputs": [],
   "source": [
    "n1={1,2,34,5,1,1,1,2,34,43,5,2,34,7,8,9,99,2,1,34,99,7,8,}"
   ]
  },
  {
   "cell_type": "code",
   "execution_count": 53,
   "id": "c4f6aeed-28e6-4218-83c8-5834ee2ba166",
   "metadata": {},
   "outputs": [
    {
     "data": {
      "text/plain": [
       "{1, 2, 5, 7, 8, 9, 34, 43, 99}"
      ]
     },
     "execution_count": 53,
     "metadata": {},
     "output_type": "execute_result"
    }
   ],
   "source": [
    "n1              # you can see here you got the unique element i.e no repetative element are here \n",
    "              # set is collection of unorded unique collection "
   ]
  },
  {
   "cell_type": "code",
   "execution_count": 54,
   "id": "fb35f4e2-19ae-4e1a-b76b-de0d0998fc76",
   "metadata": {},
   "outputs": [],
   "source": [
    "# note one thing that unlike list,tupple, list you can't do indexing and sclising of set "
   ]
  },
  {
   "cell_type": "code",
   "execution_count": null,
   "id": "965619aa-3c0b-4853-8e99-63b3abe19121",
   "metadata": {},
   "outputs": [],
   "source": []
  },
  {
   "cell_type": "code",
   "execution_count": 55,
   "id": "d9ed7e30-135c-4a23-b5a6-6980ef2fb656",
   "metadata": {},
   "outputs": [],
   "source": [
    "z.add(330)"
   ]
  },
  {
   "cell_type": "code",
   "execution_count": 57,
   "id": "c2d90149-644b-4bd9-b3dd-5539d55cd335",
   "metadata": {},
   "outputs": [
    {
     "data": {
      "text/plain": [
       "{(4, 3, 5, 6, 7.789, 'suraj ', 'siddhivaje'),\n",
       " 2,\n",
       " 3,\n",
       " 330,\n",
       " 4,\n",
       " 5,\n",
       " 65,\n",
       " 67.7,\n",
       " 'i love siddhi',\n",
       " 'siddhi',\n",
       " 'suraj'}"
      ]
     },
     "execution_count": 57,
     "metadata": {},
     "output_type": "execute_result"
    }
   ],
   "source": [
    "z"
   ]
  },
  {
   "cell_type": "code",
   "execution_count": 58,
   "id": "6bce1534-b3c9-4567-9969-bd1c7030b6c9",
   "metadata": {},
   "outputs": [
    {
     "data": {
      "text/plain": [
       "set"
      ]
     },
     "execution_count": 58,
     "metadata": {},
     "output_type": "execute_result"
    }
   ],
   "source": [
    "type(z)"
   ]
  },
  {
   "cell_type": "code",
   "execution_count": 61,
   "id": "ec36b871-c1d2-41e1-8d9e-8537e77b9584",
   "metadata": {},
   "outputs": [],
   "source": [
    "z.remove(65)"
   ]
  },
  {
   "cell_type": "code",
   "execution_count": 62,
   "id": "e07332d2-556e-4f38-8397-cc1d9aee2d3b",
   "metadata": {},
   "outputs": [
    {
     "data": {
      "text/plain": [
       "{(4, 3, 5, 6, 7.789, 'suraj ', 'siddhivaje'),\n",
       " 2,\n",
       " 3,\n",
       " 330,\n",
       " 4,\n",
       " 5,\n",
       " 67.7,\n",
       " 'i love siddhi',\n",
       " 'siddhi'}"
      ]
     },
     "execution_count": 62,
     "metadata": {},
     "output_type": "execute_result"
    }
   ],
   "source": [
    "z"
   ]
  },
  {
   "cell_type": "code",
   "execution_count": 64,
   "id": "89fa02ca-29fa-49ed-b538-e646e38c8706",
   "metadata": {},
   "outputs": [],
   "source": [
    "z.remove('siddhi')"
   ]
  },
  {
   "cell_type": "code",
   "execution_count": 65,
   "id": "3db89ae3-9012-415a-b6ac-4dc168097ed3",
   "metadata": {},
   "outputs": [
    {
     "data": {
      "text/plain": [
       "{(4, 3, 5, 6, 7.789, 'suraj ', 'siddhivaje'),\n",
       " 2,\n",
       " 3,\n",
       " 330,\n",
       " 4,\n",
       " 5,\n",
       " 67.7,\n",
       " 'i love siddhi'}"
      ]
     },
     "execution_count": 65,
     "metadata": {},
     "output_type": "execute_result"
    }
   ],
   "source": [
    "z"
   ]
  },
  {
   "cell_type": "code",
   "execution_count": null,
   "id": "efc268c4-f7fb-42ce-8683-6c0f5133c3cc",
   "metadata": {},
   "outputs": [],
   "source": [
    "# notes of list and tuppple and sets:-\n",
    "\n",
    "# In Python, lists, tuples, and sets are all different types of data structures used to store collections of items, but they have different characteristics and uses.\n",
    "\n",
    "# 1. Lists:\n",
    "#    - Ordered collection of items.\n",
    "#    - Mutable: You can add, remove, or modify elements.\n",
    "#    - Created using square brackets ([]).\n",
    "#    - Common operations include indexing, slicing, appending, extending, removing, and looping through elements.\n",
    "\n",
    "# 2. Tuples:\n",
    "#    - Similar to lists but immutable: Once created, you can't change the elements.\n",
    "#    - Ordered collection of items.\n",
    "#    - Created using parentheses ().\n",
    "#    - Useful for representing fixed collections of items, such as coordinates or database records.\n",
    "#    - Common operations include indexing and slicing.\n",
    "\n",
    "# 3. Sets:\n",
    "#    - Unordered collection of unique items.\n",
    "#    - Mutable: You can add or remove elements, but you can't modify individual elements.\n",
    "#    - Created using curly braces ({}) or the set() function.\n",
    "#    - Useful for tasks that involve checking for membership, intersection, union, or difference between collections.\n",
    "#    - Common operations include adding, removing, checking membership, and set operations like union, intersection, and difference.\n",
    "\n",
    "# In learning about these data structures, you'll understand their properties, when to use each one, and how to effectively manipulate and utilize them in Python programs."
   ]
  }
 ],
 "metadata": {
  "kernelspec": {
   "display_name": "Python 3 (ipykernel)",
   "language": "python",
   "name": "python3"
  },
  "language_info": {
   "codemirror_mode": {
    "name": "ipython",
    "version": 3
   },
   "file_extension": ".py",
   "mimetype": "text/x-python",
   "name": "python",
   "nbconvert_exporter": "python",
   "pygments_lexer": "ipython3",
   "version": "3.12.4"
  }
 },
 "nbformat": 4,
 "nbformat_minor": 5
}
